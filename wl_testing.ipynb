{
 "cells": [
  {
   "cell_type": "markdown",
   "metadata": {},
   "source": [
    "### **Weak Lensing Testing Notebook**\n",
    "\n",
    "Notebook for testing of weak-lensing computed profiles for galaxy clusters in DES. The following lines can be used to analyze the structure of the dataset.\n",
    "```\n",
    "cd /project/projectdirs/des/www/y3_cats/Y3_mastercat_03_31_20.h5\n",
    "h5ls -f -r --follow-symlinks Y3_mastercat_03_31_20.h5\n",
    "```"
   ]
  },
  {
   "cell_type": "markdown",
   "metadata": {},
   "source": [
    "#### **Initialize Notebook and Load Catalog**\n",
    "\n",
    "Initializes the notebook and its package dependencies. Loads Y3 master catalog."
   ]
  },
  {
   "cell_type": "code",
   "execution_count": 2,
   "metadata": {},
   "outputs": [],
   "source": [
    "import numpy as np\n",
    "import treecorr\n",
    "import h5py\n",
    "import kmeans_radec\n",
    "import seaborn as sns\n",
    "import matplotlib.pyplot as plt \n",
    "import astropy.units as u\n",
    "from astropy.cosmology import FlatLambdaCDM\n",
    "from astropy.coordinates import SkyCoord\n",
    "\n",
    "cosmo = FlatLambdaCDM(H0=70, Om0=0.3)\n",
    "\n",
    "sns.set(style='ticks')\n",
    "\n",
    "%config IPCompleter.greedy = True\n",
    "%config InlineBackend.figure_format = 'retina'\n",
    "\n",
    "cat_str = '/project/projectdirs/des/www/y3_cats/Y3_mastercat_03_31_20.h5'\n",
    "f = h5py.File(cat_str,'r')"
   ]
  },
  {
   "cell_type": "markdown",
   "metadata": {},
   "source": [
    "#### **Load and Setup Galaxy and Shear Data**\n",
    "\n",
    "Loads the positions and redshifts (bpz) of galaxies with robust shear estimates alongside shear estimates. Creates jackknife patches."
   ]
  },
  {
   "cell_type": "code",
   "execution_count": 3,
   "metadata": {},
   "outputs": [],
   "source": [
    "### ra,dec and redshift\n",
    "print(\"Loading Catalog Data:\")\n",
    "ra = np.array(f['catalog/gold/ra'])[np.array(f['index/select'])].copy() #'index/select' ensures appropriate shear measurment\n",
    "dec = np.array(f['catalog/gold/dec'])[np.array(f['index/select'])].copy()\n",
    "\n",
    "z = np.array(f['catalog/bpz/unsheared/zmean_sof'])[np.array(f['index/select'])].copy()\n",
    "z_mc = np.array(f['catalog/bpz/unsheared/zmc_sof'])[np.array(f['index/select'])].copy()\n",
    "\n",
    "print(\"Computing Comoving Distance:\")\n",
    "dist = cosmo.comoving_distance(z)\n",
    "dist_mc = cosmo.comoving_distance(z_mc)\n",
    "\n",
    "# Remove non-applicable data points identified by negative redshift \n",
    "ind_z = np.where(z>0)[0]\n",
    "ra = ra[ind_z]\n",
    "dec = dec[ind_z]\n",
    "z = z[ind_z]\n",
    "z_mc = z_mc[ind_z]\n",
    "dist = dist[ind_z]\n",
    "dist_mc = dist_mc[ind_z]\n",
    "\n",
    "# Load shear data\n",
    "print(\"Loading Shear Data:\")\n",
    "dgamma = 2*0.01\n",
    "R = 0.5*(np.array(f['catalog/metacal/unsheared/R11'])[np.array(f['index/select'])][indz]+np.array(f['catalog/metacal/unsheared/R22'])[np.array(f['index/select'])][indz]).copy()\n",
    "Rs = 0.0120708305447 #selection response\n",
    "\n",
    "e1 = np.array(f['catalog/metacal/unsheared/e_1'])[np.array(f['index/select'])][indz].copy()\n",
    "e2 = np.array(f['catalog/metacal/unsheared/e_2'])[np.array(f['index/select'])][indz].copy()"
   ]
  },
  {
   "cell_type": "code",
   "execution_count": 8,
   "metadata": {},
   "outputs": [
    {
     "name": "stdout",
     "output_type": "stream",
     "text": [
      "Loading Shear Data:\n"
     ]
    }
   ],
   "source": [
    "# Remove non-applicable data points identified by negative redshift \n",
    "ind_z = np.where(z>0)[0]\n",
    "ra = ra[ind_z]\n",
    "dec = dec[ind_z]\n",
    "z = z[ind_z]\n",
    "z_mc = z_mc[ind_z]\n",
    "dist = dist[ind_z]\n",
    "dist_mc = dist_mc[ind_z]\n",
    "\n",
    "# Load shear data\n",
    "print(\"Loading Shear Data:\")\n",
    "dgamma = 2*0.01\n",
    "R = 0.5*(np.array(f['catalog/metacal/unsheared/R11'])[np.array(f['index/select'])][indz]+np.array(f['catalog/metacal/unsheared/R22'])[np.array(f['index/select'])][indz]).copy()\n",
    "Rs = 0.0120708305447 #selection response\n",
    "\n",
    "e1 = np.array(f['catalog/metacal/unsheared/e_1'])[np.array(f['index/select'])][indz].copy()\n",
    "e2 = np.array(f['catalog/metacal/unsheared/e_2'])[np.array(f['index/select'])][indz].copy()"
   ]
  },
  {
   "cell_type": "code",
   "execution_count": 7,
   "metadata": {},
   "outputs": [],
   "source": []
  },
  {
   "cell_type": "code",
   "execution_count": 40,
   "metadata": {},
   "outputs": [
    {
     "name": "stdout",
     "output_type": "stream",
     "text": [
      "X (20020, 2)  centers (100, 2)  tol=1e-05  maxiter=200\n",
      "41 iterations  cluster sizes: [209 176 160 272 164 204 228 234 176 227 214 237 126 243 205 209 223 262\n",
      " 243 280 259 261 189 156 207 156 165 205 148 158 243 263 231 260 186 215\n",
      " 235 133 188 189 180 168 201 166 282 184 189 154 188 210 144 192 186 272\n",
      " 202 156 157 212 262 148 251 145 164 214 248 184 340 190 184 169 153 175\n",
      " 245 217 203 235 161 224 198 145 172 211 168 182 276 196 167 174 162 209\n",
      " 235 152 223 184 222 191 195 160 142 162]\n",
      "X (100208944, 2)  centers (100, 2)  tol=1e-05  maxiter=200\n"
     ]
    },
    {
     "ename": "MemoryError",
     "evalue": "Unable to allocate 74.7 GiB for an array with shape (100208944, 100) and data type float64",
     "output_type": "error",
     "traceback": [
      "\u001b[0;31m---------------------------------------------------------------------------\u001b[0m",
      "\u001b[0;31mMemoryError\u001b[0m                               Traceback (most recent call last)",
      "\u001b[0;32m<ipython-input-40-065ab0ae894c>\u001b[0m in \u001b[0;36m<module>\u001b[0;34m\u001b[0m\n\u001b[1;32m     43\u001b[0m \u001b[0mn_jack\u001b[0m \u001b[0;34m=\u001b[0m \u001b[0;36m100\u001b[0m\u001b[0;34m\u001b[0m\u001b[0;34m\u001b[0m\u001b[0m\n\u001b[1;32m     44\u001b[0m \u001b[0mjk_file_str\u001b[0m \u001b[0;34m=\u001b[0m \u001b[0;34m\"kmeans_centers_npix100_desy3.dat\"\u001b[0m\u001b[0;34m\u001b[0m\u001b[0;34m\u001b[0m\u001b[0m\n\u001b[0;32m---> 45\u001b[0;31m \u001b[0mkm\u001b[0m \u001b[0;34m=\u001b[0m \u001b[0mGenerateJKRegions\u001b[0m\u001b[0;34m(\u001b[0m\u001b[0mra\u001b[0m\u001b[0;34m,\u001b[0m \u001b[0mdec\u001b[0m\u001b[0;34m,\u001b[0m \u001b[0mn_jack\u001b[0m\u001b[0;34m,\u001b[0m \u001b[0mjk_file_str\u001b[0m\u001b[0;34m)\u001b[0m\u001b[0;34m\u001b[0m\u001b[0;34m\u001b[0m\u001b[0m\n\u001b[0m",
      "\u001b[0;32m<ipython-input-40-065ab0ae894c>\u001b[0m in \u001b[0;36mGenerateJKRegions\u001b[0;34m(ra, dec, njack, jfile, maxiter, tol)\u001b[0m\n\u001b[1;32m     30\u001b[0m     \u001b[0mrd\u001b[0m\u001b[0;34m[\u001b[0m\u001b[0;34m:\u001b[0m\u001b[0;34m,\u001b[0m \u001b[0;36m1\u001b[0m\u001b[0;34m]\u001b[0m \u001b[0;34m=\u001b[0m \u001b[0mdec\u001b[0m\u001b[0;34m\u001b[0m\u001b[0;34m\u001b[0m\u001b[0m\n\u001b[1;32m     31\u001b[0m \u001b[0;34m\u001b[0m\u001b[0m\n\u001b[0;32m---> 32\u001b[0;31m     \u001b[0mkm\u001b[0m \u001b[0;34m=\u001b[0m \u001b[0mkmeans_radec\u001b[0m\u001b[0;34m.\u001b[0m\u001b[0mkmeans_sample\u001b[0m\u001b[0;34m(\u001b[0m\u001b[0mrd\u001b[0m\u001b[0;34m,\u001b[0m \u001b[0mnjack\u001b[0m\u001b[0;34m,\u001b[0m \u001b[0mmaxiter\u001b[0m\u001b[0;34m=\u001b[0m\u001b[0mmaxiter\u001b[0m\u001b[0;34m,\u001b[0m \u001b[0mtol\u001b[0m\u001b[0;34m=\u001b[0m\u001b[0mtol\u001b[0m\u001b[0;34m)\u001b[0m\u001b[0;34m\u001b[0m\u001b[0;34m\u001b[0m\u001b[0m\n\u001b[0m\u001b[1;32m     33\u001b[0m \u001b[0;34m\u001b[0m\u001b[0m\n\u001b[1;32m     34\u001b[0m     \u001b[0;32mif\u001b[0m \u001b[0;32mnot\u001b[0m \u001b[0mkm\u001b[0m\u001b[0;34m.\u001b[0m\u001b[0mconverged\u001b[0m\u001b[0;34m:\u001b[0m\u001b[0;34m\u001b[0m\u001b[0;34m\u001b[0m\u001b[0m\n",
      "\u001b[0;32m~/.conda/envs/anzestack/lib/python3.7/site-packages/kmeans_radec/kmeans_radec.py\u001b[0m in \u001b[0;36mkmeans_sample\u001b[0;34m(X, ncen, nsample, maxiter, **kw)\u001b[0m\n\u001b[1;32m    399\u001b[0m \u001b[0;34m\u001b[0m\u001b[0m\n\u001b[1;32m    400\u001b[0m     \u001b[0mkm\u001b[0m\u001b[0;34m=\u001b[0m\u001b[0mKMeans\u001b[0m\u001b[0;34m(\u001b[0m\u001b[0msample_centers\u001b[0m\u001b[0;34m,\u001b[0m \u001b[0;34m**\u001b[0m\u001b[0mkw\u001b[0m\u001b[0;34m)\u001b[0m\u001b[0;34m\u001b[0m\u001b[0;34m\u001b[0m\u001b[0m\n\u001b[0;32m--> 401\u001b[0;31m     \u001b[0mkm\u001b[0m\u001b[0;34m.\u001b[0m\u001b[0mrun\u001b[0m\u001b[0;34m(\u001b[0m\u001b[0mX\u001b[0m\u001b[0;34m,\u001b[0m \u001b[0mmaxiter\u001b[0m\u001b[0;34m=\u001b[0m\u001b[0mmaxiter\u001b[0m\u001b[0;34m)\u001b[0m\u001b[0;34m\u001b[0m\u001b[0;34m\u001b[0m\u001b[0m\n\u001b[0m\u001b[1;32m    402\u001b[0m \u001b[0;34m\u001b[0m\u001b[0m\n\u001b[1;32m    403\u001b[0m     \u001b[0;32mreturn\u001b[0m \u001b[0mkm\u001b[0m\u001b[0;34m\u001b[0m\u001b[0;34m\u001b[0m\u001b[0m\n",
      "\u001b[0;32m~/.conda/envs/anzestack/lib/python3.7/site-packages/kmeans_radec/kmeans_radec.py\u001b[0m in \u001b[0;36mrun\u001b[0;34m(self, X, maxiter)\u001b[0m\n\u001b[1;32m    125\u001b[0m \u001b[0;34m\u001b[0m\u001b[0m\n\u001b[1;32m    126\u001b[0m         \u001b[0;32mif\u001b[0m \u001b[0mself\u001b[0m\u001b[0;34m.\u001b[0m\u001b[0mmethod\u001b[0m\u001b[0;34m==\u001b[0m\u001b[0;34m'slow'\u001b[0m\u001b[0;34m:\u001b[0m\u001b[0;34m\u001b[0m\u001b[0;34m\u001b[0m\u001b[0m\n\u001b[0;32m--> 127\u001b[0;31m             \u001b[0mself\u001b[0m\u001b[0;34m.\u001b[0m\u001b[0m_run_slow\u001b[0m\u001b[0;34m(\u001b[0m\u001b[0mX\u001b[0m\u001b[0;34m,\u001b[0m \u001b[0mmaxiter\u001b[0m\u001b[0;34m)\u001b[0m\u001b[0;34m\u001b[0m\u001b[0;34m\u001b[0m\u001b[0m\n\u001b[0m\u001b[1;32m    128\u001b[0m         \u001b[0;32melse\u001b[0m\u001b[0;34m:\u001b[0m\u001b[0;34m\u001b[0m\u001b[0;34m\u001b[0m\u001b[0m\n\u001b[1;32m    129\u001b[0m             \u001b[0mself\u001b[0m\u001b[0;34m.\u001b[0m\u001b[0m_run_fast\u001b[0m\u001b[0;34m(\u001b[0m\u001b[0mX\u001b[0m\u001b[0;34m,\u001b[0m \u001b[0mmaxiter\u001b[0m\u001b[0;34m)\u001b[0m\u001b[0;34m\u001b[0m\u001b[0;34m\u001b[0m\u001b[0m\n",
      "\u001b[0;32m~/.conda/envs/anzestack/lib/python3.7/site-packages/kmeans_radec/kmeans_radec.py\u001b[0m in \u001b[0;36m_run_slow\u001b[0;34m(self, X, maxiter)\u001b[0m\n\u001b[1;32m    147\u001b[0m         \u001b[0;32mfor\u001b[0m \u001b[0mjiter\u001b[0m \u001b[0;32min\u001b[0m \u001b[0mxrange\u001b[0m\u001b[0;34m(\u001b[0m \u001b[0;36m1\u001b[0m\u001b[0;34m,\u001b[0m \u001b[0mmaxiter\u001b[0m\u001b[0;34m+\u001b[0m\u001b[0;36m1\u001b[0m \u001b[0;34m)\u001b[0m\u001b[0;34m:\u001b[0m\u001b[0;34m\u001b[0m\u001b[0;34m\u001b[0m\u001b[0m\n\u001b[1;32m    148\u001b[0m \u001b[0;34m\u001b[0m\u001b[0m\n\u001b[0;32m--> 149\u001b[0;31m             \u001b[0mD\u001b[0m \u001b[0;34m=\u001b[0m \u001b[0mcdist_radec\u001b[0m\u001b[0;34m(\u001b[0m\u001b[0mX\u001b[0m\u001b[0;34m,\u001b[0m \u001b[0mcenters\u001b[0m\u001b[0;34m)\u001b[0m  \u001b[0;31m# npoints x ncenters\u001b[0m\u001b[0;34m\u001b[0m\u001b[0;34m\u001b[0m\u001b[0m\n\u001b[0m\u001b[1;32m    150\u001b[0m \u001b[0;34m\u001b[0m\u001b[0m\n\u001b[1;32m    151\u001b[0m             \u001b[0mlabels\u001b[0m \u001b[0;34m=\u001b[0m \u001b[0mD\u001b[0m\u001b[0;34m.\u001b[0m\u001b[0margmin\u001b[0m\u001b[0;34m(\u001b[0m\u001b[0maxis\u001b[0m\u001b[0;34m=\u001b[0m\u001b[0;36m1\u001b[0m\u001b[0;34m)\u001b[0m  \u001b[0;31m# X -> nearest centre\u001b[0m\u001b[0;34m\u001b[0m\u001b[0;34m\u001b[0m\u001b[0m\n",
      "\u001b[0;32m~/.conda/envs/anzestack/lib/python3.7/site-packages/kmeans_radec/kmeans_radec.py\u001b[0m in \u001b[0;36mcdist_radec\u001b[0;34m(a1, a2)\u001b[0m\n\u001b[1;32m    443\u001b[0m     \u001b[0mz2\u001b[0m \u001b[0;34m=\u001b[0m \u001b[0mcos\u001b[0m\u001b[0;34m(\u001b[0m\u001b[0mtheta2\u001b[0m\u001b[0;34m)\u001b[0m\u001b[0;34m\u001b[0m\u001b[0;34m\u001b[0m\u001b[0m\n\u001b[1;32m    444\u001b[0m \u001b[0;34m\u001b[0m\u001b[0m\n\u001b[0;32m--> 445\u001b[0;31m     \u001b[0mcostheta\u001b[0m \u001b[0;34m=\u001b[0m \u001b[0mx1\u001b[0m\u001b[0;34m*\u001b[0m\u001b[0mx2\u001b[0m \u001b[0;34m+\u001b[0m \u001b[0my1\u001b[0m\u001b[0;34m*\u001b[0m\u001b[0my2\u001b[0m \u001b[0;34m+\u001b[0m \u001b[0mz1\u001b[0m\u001b[0;34m*\u001b[0m\u001b[0mz2\u001b[0m\u001b[0;34m\u001b[0m\u001b[0;34m\u001b[0m\u001b[0m\n\u001b[0m\u001b[1;32m    446\u001b[0m \u001b[0;34m\u001b[0m\u001b[0m\n\u001b[1;32m    447\u001b[0m     \u001b[0mcostheta\u001b[0m\u001b[0;34m=\u001b[0m\u001b[0mnp\u001b[0m\u001b[0;34m.\u001b[0m\u001b[0mclip\u001b[0m\u001b[0;34m(\u001b[0m\u001b[0mcostheta\u001b[0m\u001b[0;34m,\u001b[0m\u001b[0;34m-\u001b[0m\u001b[0;36m1.0\u001b[0m\u001b[0;34m,\u001b[0m\u001b[0;36m1.0\u001b[0m\u001b[0;34m)\u001b[0m\u001b[0;34m\u001b[0m\u001b[0;34m\u001b[0m\u001b[0m\n",
      "\u001b[0;31mMemoryError\u001b[0m: Unable to allocate 74.7 GiB for an array with shape (100208944, 100) and data type float64"
     ]
    }
   ],
   "source": [
    "# km = kmeans_radec.KMeans(np.loadtxt('kmeans_centers_npix100_desy3.dat')) ### the coordinates for the centers of JK patched: pre-calculated\n",
    "## or you can define your own \"km\": how-to is on the documentation -- super simple\n",
    "## see the kmeans_radec documetation how to do it\n",
    "\n",
    "def GenerateJKRegions(ra, dec, njack, jfile, maxiter=200, tol=1.0e-5):\n",
    "    \"\"\"\n",
    "    Generate k-means clusters from a set of data, using `kmeans_radec <https://github.com/esheldon/kmeans_radec>`_.\n",
    "    For roughly uniform data, it generates N-clusters of roughly equal cardinality.\n",
    "    Here, distances are computed on the surface of the unit sphere, and coordinates are given as RA/DEC.\n",
    "\n",
    "    Parameters\n",
    "    ----------\n",
    "    ra (float array)\n",
    "        Right ascension values for each data point.\n",
    "    dec (float array)\n",
    "        Declination values for each data point.\n",
    "    njack (int)\n",
    "        Number of k-means clusters to generate, i.e. the number of JK regions.\n",
    "    jfile (str)\n",
    "        Output file name to save the regions.\n",
    "    maxiter (int)\n",
    "        Maximum number of iterations for the k-means generation, see `kmeans_radec documentation <https://github.com/esheldon/kmeans_radec>`_.\n",
    "    tol (float)\n",
    "        Tolerance level needed to be considered converged, see `kmeans_radec documentation <https://github.com/esheldon/kmeans_radec>`_.\n",
    "\n",
    "    Returns\n",
    "    -------\n",
    "    None\n",
    "\n",
    "    \"\"\"\n",
    "\n",
    "    rd = np.zeros((len(ra), 2))\n",
    "    rd[:, 0] = ra\n",
    "    rd[:, 1] = dec\n",
    "\n",
    "    km = kmeans_radec.kmeans_sample(rd, njack, maxiter=maxiter, tol=tol)\n",
    "\n",
    "    if not km.converged:\n",
    "        raise RuntimeError(\"k means did not converge\")\n",
    "\n",
    "#     dir = os.path.dirname(jfile)\n",
    "#     if not os.path.exists(dir):\n",
    "#         os.makedirs(dir)\n",
    "\n",
    "    return km.centers\n",
    "    \n",
    "n_jack = 100\n",
    "jk_file_str = \"kmeans_centers_npix100_desy3.dat\"\n",
    "km = GenerateJKRegions(ra, dec, n_jack, jk_file_str)"
   ]
  },
  {
   "cell_type": "code",
   "execution_count": null,
   "metadata": {},
   "outputs": [],
   "source": [
    "# Convert right ascension to take into account DES footprint\n",
    "ra_tem = ra.copy()\n",
    "ra_tem[ra_tem > 250.] -= 360.\n",
    "ra_dec = np.vstack((ra_tem,dec)).T\n",
    "jk = km.find_nearest(ra_dec)  #### this will assign each objects a jk number\n",
    "\n",
    "\n",
    "### how to select galaxies around the JK patches\n",
    "#center data = jk patch you calculated\n",
    "pos_jk = astropy.SkyCoord(ra=center_data[0]*u.deg,dec=center_data[1]*u.deg) ## position of the jk centers\n",
    "jk_dist = pos_jk[jkid].separation(pos_jk).degree ### the distance to each JK center from each JK center\n",
    "ind = jk_dist < 20.8 ### maximum angular scale to include: you can modify this number based on the maximum radius of interest and the size of the JK patches\n",
    "jk_neigh = np.arange(100)[ind] ### the indices of JK patched to include\n",
    "ind_jk_src = np.in1d(jk,jk_neigh) ### selected galaxies that have the above JK indices\n",
    "\n",
    "ra = ra[ind_jk_src]\n",
    "dec = dec[ind_jk_src]\n",
    "z = z[ind_jk_src]\n",
    "z_mc = z_mc[ind_jk_src]\n",
    "dist = dist[ind_jk_src]\n",
    "dist_mc = dist_mc[ind_jk_src]\n",
    "R = R[ind_jk_src]\n",
    "e1 = e1[ind_jk_src]\n",
    "e2 = e2[ind_jk_src]\n",
    "\n",
    "# if you need additional filter, do similarly. \n",
    "\n",
    "#Then you Load cluster data....\n",
    "#and the random data...\n",
    "#select those are included in our JK patch..\n",
    "\n",
    "#### you can for now use \"redmapper\" clusters that are already in the master catalog above.\n",
    "#### try to find it, and test your code. \n",
    "#### there are also random catalogs for the redmapper which you can ignore for now\n",
    "\n",
    "# do Treecorr.\n",
    "### the lines from the last time starts."
   ]
  },
  {
   "cell_type": "code",
   "execution_count": null,
   "metadata": {},
   "outputs": [],
   "source": [
    "NZBIN ## number of redshift bins\n",
    "NBINS ## number of radial bins\n",
    "top = np.zeros((NZBIN,NBINS))\n",
    "top_im = np.zeros((NZBIN,NBINS))\n",
    "bottom = np.zeros((NZBIN,NBINS))\n",
    "weight = np.zeros((NZBIN,NBINS))\n",
    "for i in range(len(NZBINS))\n",
    "    #select clusters in this redshift bins\n",
    "    cat_cl = treecorr.Catalog(ra=RA_cl_zbin,dec=dec_cl_zbin,ra_units='deg',dec_units='deg')\n",
    "    z_cl_zbin = np.mean(z_cl[_selection_])\n",
    "    dist_zbin = (comoving_distance(z_cl_zbin).value*10**6)*0.7\n",
    "    wt_gal = (1./(1.663*10**12))*(1+z_cl_zbin)*dist_zbin*(1.-dist_zbin/distance_to_the_galaxies_from_zmean)\n",
    "    sci = (1./(1.663*10**12))*(1.+z_cl_zbin)*dist_zbin*(1.-dist_zbin/dist_to_the_galaxies_from_zmc)\n",
    "    sci[sci<0.] = 0. ###### important\n",
    "    gal_sel = (zmean_of_galaxies>=z_cl_zbin+0.1) #_cushion_between_clusters_and_galaxies\n",
    "    cat_gal = treecorr.Catalog(g1=gamma1[gal_sel],g2=gamma2[gal_sel],ra=ra_gal[...],dec=dec_gal[...],w=wt[...],ra_units='deg',dec_units='deg')\n",
    "    cat_gal2 = treecorr.Catalog(g1=gamma1[gal_sel],g2=gamma2[gal_sel],ra=ra_gal[...],dec=dec_gal[...],w=(wt*sci*(R+Rs))[...],ra_units='deg',dec_units='deg')\n",
    "    thmin = np.arctan(Rmin*10**6 / dist_cl_zbin) * (180./np.pi) * 60. ### minimum angular distance in arcmin\n",
    "    thmin = np.arctan(Rmax*10**6 / dist_cl_zbin) * (180./np.pi) * 60.\n",
    "    ng = treecorr.NGCorrelation(nbins=NBINS,min_sep=thmin,max_sep=thmax,sep_units='arcmin',verbose=2,bin_slop=0.02) ## confinguration of the NGcorrelation :: not a real calculation yet.\n",
    "    ng2 = treecorr.NGCorrelation(nbins=NBINS,min_sep=thmin,max_sep=thmax,sep_units='arcmin',verbose=2,bin_slop=0.02)\n",
    "    ng.process(cat_cl,cat_gal) ### actual calcalation\n",
    "    ng2.process(cat_cl,cat_gal2)\n",
    "    top[i] = ng.xi*ng.weight #### remove the denominator part so that we are only left with the numerator\n",
    "    top_im[i] = ng.xi_im*ng.weight\n",
    "    bottom[i] = ng2.weight #### we selected the denominator part with the different weight (R*sci*wt)\n",
    "    weight[i] = ng.weight #### for calculating boost factor in the future\n",
    "\n",
    "### do it for every JK patch and combine\n",
    "\n",
    "top_total = sum(top)\n",
    "bottom_total = sum(bottom)\n",
    "\n",
    "## and then\n",
    "top_total/bottom_total\n",
    "\n",
    "### do this for 100 JK realization and calculate JK cov."
   ]
  },
  {
   "cell_type": "code",
   "execution_count": 1,
   "metadata": {},
   "outputs": [
    {
     "name": "stdout",
     "output_type": "stream",
     "text": [
      "test\n"
     ]
    }
   ],
   "source": []
  },
  {
   "cell_type": "code",
   "execution_count": null,
   "metadata": {},
   "outputs": [],
   "source": []
  }
 ],
 "metadata": {
  "kernelspec": {
   "display_name": "Python [conda env:.conda-anzestack]",
   "language": "python",
   "name": "conda-env-.conda-anzestack-py"
  },
  "language_info": {
   "codemirror_mode": {
    "name": "ipython",
    "version": 3
   },
   "file_extension": ".py",
   "mimetype": "text/x-python",
   "name": "python",
   "nbconvert_exporter": "python",
   "pygments_lexer": "ipython3",
   "version": "3.7.6"
  }
 },
 "nbformat": 4,
 "nbformat_minor": 4
}
